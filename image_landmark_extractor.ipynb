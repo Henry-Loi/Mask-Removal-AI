{
 "cells": [
  {
   "cell_type": "code",
   "execution_count": 83,
   "metadata": {},
   "outputs": [],
   "source": [
    "import dlib #http://dlib.net/files/shape_predictor_68_face_landmarks.dat.bz2\n",
    "import cv2\n",
    "import matplotlib.pyplot as plt"
   ]
  },
  {
   "cell_type": "code",
   "execution_count": 84,
   "metadata": {},
   "outputs": [],
   "source": [
    "# helper function \n",
    "def plt_imshow(title, image):\n",
    "\t# convert the image frame BGR to RGB color space and display it\n",
    "\timage = cv2.cvtColor(image, cv2.COLOR_BGR2RGB)\n",
    "\tplt.imshow(image)\n",
    "\tplt.title(title)\n",
    "\tplt.grid(False)\n",
    "\tplt.show()"
   ]
  },
  {
   "cell_type": "code",
   "execution_count": 88,
   "metadata": {},
   "outputs": [],
   "source": [
    "class LandmarkExtractor():\n",
    "    def __init__(self, predictor_path):\n",
    "        self.predictor = dlib.shape_predictor(predictor_path)\n",
    "        self.detector = dlib.get_frontal_face_detector()\n",
    "        self.landmark_tuple = []\n",
    "\n",
    "    def get_landmarks(self, image, image2=None, show=False, num_points=68):\n",
    "        # detect faces in the grayscale image\n",
    "        faces = [self.detector(image, 1)]\n",
    "        if image2 is not None:\n",
    "            faces.append(self.detector(image2, 1))\n",
    "        # loop over the face detections\n",
    "        # print(f\"len(faces): {len(faces)}\\n {faces}\")\n",
    "        for (idx, face) in enumerate(faces):\n",
    "            # print(face)\n",
    "            if face is None or len(face) == 0:\n",
    "                print(\"!! No face detected !!\")\n",
    "                face = dlib.rectangles()\n",
    "                if idx == 0:\n",
    "                    face.append(dlib.rectangle(0, 0, image.shape[1], image.shape[0]))\n",
    "                else:\n",
    "                    face.append(dlib.rectangle(0, 0, image2.shape[1], image2.shape[0]))\n",
    "            \n",
    "            for (i, rect) in enumerate(face):\n",
    "                # print(f\"rect: {rect} is_empty: {rect.is_empty()}\")\n",
    "\n",
    "                # determine the facial landmarks for the face region, then\n",
    "                # convert the facial landmark (x, y)-coordinates to a NumPy array\n",
    "                if idx == 0:\n",
    "                    landmarks = self.predictor(image, rect)\n",
    "                else:\n",
    "                    landmarks = self.predictor(image2, rect)\n",
    "                # print(f\"landmarks: {landmarks}\")\n",
    "                \n",
    "                img_landmark_tuple = []\n",
    "                for n in range(0, num_points):\n",
    "                    x = landmarks.part(n).x\n",
    "                    y = landmarks.part(n).y\n",
    "                    img_landmark_tuple.append([x, y])\n",
    "                self.landmark_tuple.append(img_landmark_tuple)\n",
    "                # print(f\"landmark img_{i}: {self.landmark_tuple[i]}\")\n",
    "               \n",
    "        if show:\n",
    "            self.show_landmarks(image, image2)\n",
    "\n",
    "        return self.landmark_tuple\n",
    "    \n",
    "    def show_landmarks(self, image, image2=None):\n",
    "        # loop over the (x, y)-coordinates for the facial landmarks\n",
    "        # and draw them on the image\n",
    "        for landmark in self.landmark_tuple:\n",
    "            if (image2 is not None):\n",
    "                for (x, y) in landmark:\n",
    "                    cv2.circle(image2, (x, y), 1, (255, 255, 0), 10)\n",
    "            for (x, y) in landmark:\n",
    "                cv2.circle(image, (x, y), 1, (255, 255, 0), 10)\n",
    "        # show the output image with the face detections + facial landmarks\n",
    "        plt_imshow(\"Landmarks\", image)\n",
    "        if image2 is not None:\n",
    "            plt_imshow(\"Landmarks\", image2)\n",
    "    "
   ]
  },
  {
   "cell_type": "code",
   "execution_count": 89,
   "metadata": {},
   "outputs": [],
   "source": [
    "# extracter = LandmarkExtractor(\"shape_predictor_68_face_landmarks.dat\")\n",
    "# image = cv2.imread(\"img/me_without_mask4.jpg\")\n",
    "# landmarks = extracter.get_landmarks(image, show=True)\n"
   ]
  },
  {
   "cell_type": "code",
   "execution_count": 90,
   "metadata": {},
   "outputs": [],
   "source": [
    "# face_detector = dlib.get_frontal_face_detector()\n",
    "# landmark_detector = dlib.shape_predictor(\"shape_predictor_68_face_landmarks.dat\")\n",
    "\n",
    "# img = dlib.load_rgb_image(\"img/me_without_mask4.jpg\")\n",
    "# img = cv2.cvtColor(img, cv2.COLOR_RGB2BGR)\n",
    "# faces = face_detector(img, 1)\n",
    "\n",
    "# landmark_tuple = []\n",
    "# for k, d in enumerate(faces):\n",
    "#    landmarks = landmark_detector(img, d)\n",
    "#    for n in range(0, 68):\n",
    "#       x = landmarks.part(n).x\n",
    "#       y = landmarks.part(n).y\n",
    "#       landmark_tuple.append((x, y))\n",
    "#       cv2.circle(img, (x, y), 2, (255, 255, 0), 3)\n",
    "      \n",
    "# plt_imshow(\"Facial Landmark\", img)"
   ]
  }
 ],
 "metadata": {
  "kernelspec": {
   "display_name": "base",
   "language": "python",
   "name": "python3"
  },
  "language_info": {
   "codemirror_mode": {
    "name": "ipython",
    "version": 3
   },
   "file_extension": ".py",
   "mimetype": "text/x-python",
   "name": "python",
   "nbconvert_exporter": "python",
   "pygments_lexer": "ipython3",
   "version": "3.9.13"
  }
 },
 "nbformat": 4,
 "nbformat_minor": 2
}
