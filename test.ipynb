{
 "cells": [
  {
   "cell_type": "code",
   "execution_count": null,
   "metadata": {},
   "outputs": [],
   "source": [
    "from deepface import DeepFace\n",
    "\n",
    "import cv2\n",
    "import matplotlib.pyplot as plt"
   ]
  },
  {
   "cell_type": "code",
   "execution_count": null,
   "metadata": {},
   "outputs": [],
   "source": [
    "result = DeepFace.verify(img1_path = \"img/mymask_cup.jpg\", img2_path = \"img/image1.png\")\n",
    "\n",
    "print(result)\n",
    "\n",
    "# get face detection result\n",
    "\n",
    "# print the image with face detection result with openCv\n",
    "facial_area = result[\"facial_areas\"][\"img2\"]\n",
    "img1 = cv2.imread(\"img/image1.png\")\n",
    "img1 = cv2.rectangle(img1, (facial_area[\"x\"], facial_area[\"y\"]), (facial_area[\"x\"]+facial_area[\"w\"], facial_area[\"y\"]+facial_area[\"h\"]), (0, 0, 255), 3)\n",
    "print(\"Facial area: \", facial_area[\"x\"], facial_area[\"y\"], facial_area[\"w\"], facial_area[\"h\"])\n",
    "plt.imshow(cv2.cvtColor(img1, cv2.COLOR_BGR2RGB))\n",
    "plt.show()\n",
    "\n",
    "facial_area = result[\"facial_areas\"][\"img1\"]\n",
    "img2 = cv2.imread(\"img/mymask_cup.jpg\")\n",
    "img2 = cv2.rectangle(img2, (facial_area[\"x\"], facial_area[\"y\"]), (facial_area[\"x\"]+facial_area[\"w\"], facial_area[\"y\"]+facial_area[\"h\"]), (0, 0, 255), 3)\n",
    "plt.imshow(cv2.cvtColor(img2, cv2.COLOR_BGR2RGB))\n",
    "plt.show()\n"
   ]
  }
 ],
 "metadata": {
  "language_info": {
   "name": "python"
  }
 },
 "nbformat": 4,
 "nbformat_minor": 2
}
